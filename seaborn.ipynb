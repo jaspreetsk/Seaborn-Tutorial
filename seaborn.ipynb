{
 "cells": [
  {
   "cell_type": "markdown",
   "id": "4d099b11",
   "metadata": {},
   "source": [
    "### Seaborn Tutorial"
   ]
  },
  {
   "cell_type": "markdown",
   "id": "83bfb3eb",
   "metadata": {},
   "source": [
    "#### Setup"
   ]
  },
  {
   "cell_type": "code",
   "execution_count": null,
   "id": "65217444",
   "metadata": {},
   "outputs": [],
   "source": [
    "import numpy as np\n",
    "import pandas as pd\n",
    "import matplotlib.pyplot as plt\n",
    "import seaborn as sns\n",
    "\n",
    "%matplotlib inline\n",
    "%reload_ext autoreload\n",
    "%autoreload 2"
   ]
  },
  {
   "cell_type": "markdown",
   "id": "b7f303fa",
   "metadata": {},
   "source": [
    "#### Import Data"
   ]
  },
  {
   "cell_type": "code",
   "execution_count": null,
   "id": "cf05fc20",
   "metadata": {},
   "outputs": [],
   "source": [
    "print(sns.get_dataset_names()) # to fetch built in dataset names available in seaborn for demonstrations.\n",
    "crash_df=sns.load_dataset('car_crashes')\n",
    "crash_df"
   ]
  },
  {
   "cell_type": "markdown",
   "id": "15196d7c",
   "metadata": {},
   "source": [
    "### Distribution Plots"
   ]
  },
  {
   "cell_type": "markdown",
   "id": "15f5fc9b",
   "metadata": {},
   "source": [
    "#### Distribution Plot"
   ]
  },
  {
   "cell_type": "code",
   "execution_count": null,
   "id": "b6e46f14",
   "metadata": {},
   "outputs": [],
   "source": [
    "sns.displot(crash_df['not_distracted'],kde=True, bins=25) # kde--> kernal density estimation"
   ]
  },
  {
   "cell_type": "markdown",
   "id": "ff3c2663",
   "metadata": {},
   "source": [
    "#### Joint Plot"
   ]
  },
  {
   "cell_type": "code",
   "execution_count": null,
   "id": "1d9d5a95",
   "metadata": {},
   "outputs": [],
   "source": [
    "sns.jointplot(x='speeding',y='alcohol',data=crash_df,kind='reg') \n",
    "sns.jointplot(x='speeding',y='alcohol',data=crash_df,kind='kde')\n",
    "sns.jointplot(x='speeding',y='alcohol',data=crash_df,kind='hex')"
   ]
  },
  {
   "cell_type": "markdown",
   "id": "0c8893ee",
   "metadata": {},
   "source": [
    "#### KDE Plot"
   ]
  },
  {
   "cell_type": "code",
   "execution_count": null,
   "id": "81c72469",
   "metadata": {},
   "outputs": [],
   "source": [
    "sns.kdeplot(crash_df['alcohol'])"
   ]
  },
  {
   "cell_type": "markdown",
   "id": "c267dada",
   "metadata": {},
   "source": [
    "#### Pair Plots"
   ]
  },
  {
   "cell_type": "code",
   "execution_count": null,
   "id": "36a0aa2d",
   "metadata": {},
   "outputs": [],
   "source": [
    "sns.pairplot(crash_df)"
   ]
  },
  {
   "cell_type": "code",
   "execution_count": null,
   "id": "34e798bc",
   "metadata": {},
   "outputs": [],
   "source": [
    "tips_df=sns.load_dataset('tips')\n",
    "sns.pairplot(tips_df,hue='sex',palette='Blues')"
   ]
  },
  {
   "cell_type": "markdown",
   "id": "a014aa06",
   "metadata": {},
   "source": [
    "#### Rug Plot"
   ]
  },
  {
   "cell_type": "code",
   "execution_count": null,
   "id": "0853008c",
   "metadata": {},
   "outputs": [],
   "source": [
    "sns.rugplot(tips_df['tip'])"
   ]
  },
  {
   "cell_type": "markdown",
   "id": "ed9d9a25",
   "metadata": {},
   "source": [
    "#### Styling"
   ]
  },
  {
   "cell_type": "code",
   "execution_count": null,
   "id": "3a21b722",
   "metadata": {},
   "outputs": [],
   "source": [
    "# sns.set_style('white')\n",
    "# sns.set_style('darkgrid')\n",
    "# sns.set_style('whitegrid')\n",
    "# sns.set_style('dark')\n",
    "sns.set_style('ticks')\n",
    "\n",
    "plt.figure(figsize=(8,4))\n",
    "\n",
    "sns.set_context('paper',font_scale=1.5)\n",
    "# sns.set_context('talk',font_scale=1.4)\n",
    "# sns.set_context('poster',font_scale=1.4)\n",
    "\n",
    "sns.jointplot(x='speeding',y='alcohol',data=crash_df,kind='reg')\n",
    "\n",
    "# sns.despine(left=True,bottom=True) # to remove horizontal and vertical ruler"
   ]
  },
  {
   "cell_type": "markdown",
   "id": "06c77d73",
   "metadata": {},
   "source": [
    "### Categorical Plots"
   ]
  },
  {
   "cell_type": "markdown",
   "id": "2eb423b0",
   "metadata": {},
   "source": [
    "#### Bar Plots"
   ]
  },
  {
   "cell_type": "code",
   "execution_count": null,
   "id": "13478e57",
   "metadata": {},
   "outputs": [],
   "source": [
    "# sns.barplot(x='sex',y='total_bill',data=tips_df,estimator=np.mean)\n",
    "# sns.barplot(x='sex',y='total_bill',data=tips_df,estimator=np.median)\n",
    "# sns.barplot(x='sex',y='total_bill',data=tips_df,estimator=np.std)\n",
    "# sns.barplot(x='sex',y='total_bill',data=tips_df,estimator=np.var)\n",
    "# sns.barplot(x='sex',y='total_bill',data=tips_df,estimator=np.cov)"
   ]
  },
  {
   "cell_type": "markdown",
   "id": "c251eeb2",
   "metadata": {},
   "source": [
    "#### Count Plot"
   ]
  },
  {
   "cell_type": "code",
   "execution_count": null,
   "id": "5c41ea45",
   "metadata": {},
   "outputs": [],
   "source": [
    "sns.countplot(x='sex',data=tips_df)"
   ]
  },
  {
   "cell_type": "markdown",
   "id": "050aa678",
   "metadata": {},
   "source": [
    "#### Box Plot"
   ]
  },
  {
   "cell_type": "code",
   "execution_count": null,
   "id": "ea8e7454",
   "metadata": {},
   "outputs": [],
   "source": [
    "sns.boxplot(x='day',y='total_bill',data=tips_df,hue='sex')\n",
    "\n",
    "plt.legend(loc=0)"
   ]
  },
  {
   "cell_type": "markdown",
   "id": "381365b9",
   "metadata": {},
   "source": [
    "#### Violin Plot"
   ]
  },
  {
   "cell_type": "code",
   "execution_count": null,
   "id": "2651a6f8",
   "metadata": {},
   "outputs": [],
   "source": [
    "sns.violinplot(x='day',y='total_bill',data=tips_df,hue='sex',split=True)"
   ]
  },
  {
   "cell_type": "markdown",
   "id": "2f4339da",
   "metadata": {},
   "source": [
    "#### Strip Plot"
   ]
  },
  {
   "cell_type": "code",
   "execution_count": null,
   "id": "7730620a",
   "metadata": {},
   "outputs": [],
   "source": [
    "plt.figure(figsize=(8,5))\n",
    "\n",
    "sns.stripplot(x='day',y='total_bill',data=tips_df,jitter=True,hue='sex',dodge=True) # jitter is used to prevent overlapping of points (it spreads out the graph a bit)\n",
    "                                                                                    # dodge is used to seperate the men and women data"
   ]
  },
  {
   "cell_type": "markdown",
   "id": "49b78809",
   "metadata": {},
   "source": [
    "#### Swarm Plot"
   ]
  },
  {
   "cell_type": "code",
   "execution_count": null,
   "id": "a2b854b0",
   "metadata": {},
   "outputs": [],
   "source": [
    "sns.violinplot(x='day',y='total_bill',data=tips_df)\n",
    "sns.swarmplot(x='day',y='total_bill',data=tips_df,color='white')"
   ]
  },
  {
   "cell_type": "markdown",
   "id": "8a979b3d",
   "metadata": {},
   "source": [
    "#### Palettes"
   ]
  },
  {
   "cell_type": "code",
   "execution_count": null,
   "id": "fb3b64b9",
   "metadata": {},
   "outputs": [],
   "source": [
    "plt.figure(figsize=(8,5))\n",
    "sns.set_style('white')\n",
    "sns.set_context('talk')\n",
    "sns.stripplot(x='day',y='total_bill',data=tips_df,hue='sex',palette='afmhot')\n",
    "plt.legend(loc=3)"
   ]
  },
  {
   "cell_type": "markdown",
   "id": "967c7717",
   "metadata": {},
   "source": [
    "### Matrix Plots"
   ]
  },
  {
   "cell_type": "markdown",
   "id": "5c00eb7c",
   "metadata": {},
   "source": [
    "#### Heatmaps"
   ]
  },
  {
   "cell_type": "code",
   "execution_count": null,
   "id": "c7113ed5",
   "metadata": {},
   "outputs": [],
   "source": [
    "plt.figure(figsize=(8,6))\n",
    "sns.set_context('paper',font_scale=1.4)\n",
    "\n",
    "crash_mx = crash_df.select_dtypes(include=['number']).corr()\n",
    "\n",
    "sns.heatmap(crash_mx,annot=True,cmap='Blues')"
   ]
  },
  {
   "cell_type": "code",
   "execution_count": null,
   "id": "3d8f05d9",
   "metadata": {},
   "outputs": [],
   "source": [
    "flights=sns.load_dataset('flights')\n",
    "flights=flights.pivot_table(index='month',columns='year',values='passengers')\n",
    "sns.heatmap(data=flights,cmap='Blues',linecolor='white',linewidths=1)"
   ]
  },
  {
   "cell_type": "markdown",
   "id": "c74ef488",
   "metadata": {},
   "source": [
    "#### Cluster Map"
   ]
  },
  {
   "cell_type": "code",
   "execution_count": null,
   "id": "4e6e4ad4",
   "metadata": {},
   "outputs": [],
   "source": [
    "iris=sns.load_dataset('iris')\n",
    "species=iris.pop('species')\n",
    "sns.clustermap(iris)"
   ]
  },
  {
   "cell_type": "code",
   "execution_count": null,
   "id": "83534be5",
   "metadata": {},
   "outputs": [],
   "source": [
    "sns.clustermap(flights,cmap='Blues',standard_scale=1)"
   ]
  },
  {
   "cell_type": "markdown",
   "id": "e028e0ad",
   "metadata": {},
   "source": [
    "#### Pair Grid"
   ]
  },
  {
   "cell_type": "code",
   "execution_count": null,
   "id": "1623d451",
   "metadata": {},
   "outputs": [],
   "source": [
    "iris=sns.load_dataset('iris')\n",
    "iris_g=sns.PairGrid(iris,hue='species')\n",
    "\n",
    "# iris_g.map(plt.scatter)\n",
    "\n",
    "# iris_g.map_diag(plt.hist)\n",
    "# iris_g.map_offdiag(plt.scatter)\n",
    "\n",
    "iris_g.map_diag(plt.hist)\n",
    "iris_g.map_upper(plt.scatter)\n",
    "iris_g.map_lower(sns.kdeplot)\n",
    "\n"
   ]
  },
  {
   "cell_type": "code",
   "execution_count": null,
   "id": "1ba0ecd4",
   "metadata": {},
   "outputs": [],
   "source": [
    "iris_g=sns.PairGrid(iris,hue=\"species\",x_vars=['sepal_length','sepal_width'],y_vars=['petal_length','petal_width'])\n",
    "iris_g.map(plt.scatter)\n",
    "iris_g.add_legend()"
   ]
  },
  {
   "cell_type": "markdown",
   "id": "c501919e",
   "metadata": {},
   "source": [
    "#### Facet Grid"
   ]
  },
  {
   "cell_type": "code",
   "execution_count": null,
   "id": "470f778c",
   "metadata": {},
   "outputs": [],
   "source": [
    "tips_fg=sns.FacetGrid(tips_df,col='time',row='smoker')\n",
    "tips_fg.map(plt.hist,'total_bill',bins=8)"
   ]
  },
  {
   "cell_type": "code",
   "execution_count": null,
   "id": "f5fc5145",
   "metadata": {},
   "outputs": [],
   "source": [
    "tips_fg=sns.FacetGrid(tips_df,col='time',row='smoker')\n",
    "tips_fg.map(plt.scatter,'total_bill','tip')"
   ]
  },
  {
   "cell_type": "code",
   "execution_count": null,
   "id": "f8c4988b",
   "metadata": {},
   "outputs": [],
   "source": [
    "tips_fg=sns.FacetGrid(tips_df,col='time',hue='smoker',height=4,aspect=1.3,\n",
    "                      col_order=['Dinner','Lunch'],palette='Set1')\n",
    "tips_fg.map(plt.scatter,'total_bill','tip',edgecolor='w')"
   ]
  },
  {
   "cell_type": "code",
   "execution_count": null,
   "id": "50930e1c",
   "metadata": {},
   "outputs": [],
   "source": [
    "kws=dict(s=50,linewidth=.5,edgecolor='w')\n",
    "tips_fg=sns.FacetGrid(tips_df,col='sex',hue='smoker',height=4,aspect=1.3,\n",
    "                      hue_order=['Yes','No'],\n",
    "                      hue_kws=dict(marker=['^','v']))\n",
    "\n",
    "tips_fg.map(plt.scatter,'total_bill','tip',**kws)"
   ]
  },
  {
   "cell_type": "code",
   "execution_count": null,
   "id": "2b3b282e",
   "metadata": {},
   "outputs": [],
   "source": [
    "att_df=sns.load_dataset('attention')\n",
    "att_fg=sns.FacetGrid(att_df,col='subject',col_wrap=5,height=1.5)\n",
    "\n",
    "att_fg.map(plt.plot,'solutions','score',marker='.')\n"
   ]
  },
  {
   "cell_type": "markdown",
   "id": "69ba78b7",
   "metadata": {},
   "source": [
    "#### Regression Plots"
   ]
  },
  {
   "cell_type": "code",
   "execution_count": null,
   "id": "4b376b78",
   "metadata": {},
   "outputs": [],
   "source": [
    "plt.figure(figsize=(8,6))\n",
    "sns.set_context('paper',font_scale=1.4)\n",
    "sns.lmplot(x='total_bill',y='tip',hue='sex',data=tips_df,markers=['o','^'],\n",
    "           scatter_kws={'s':100,'linewidths':0.5,'edgecolor':'white'})\n"
   ]
  },
  {
   "cell_type": "code",
   "execution_count": null,
   "id": "42447119",
   "metadata": {},
   "outputs": [],
   "source": [
    "sns.set_context('paper',font_scale=1.4)\n",
    "sns.lmplot(x='total_bill',y='tip',col='sex',row='time',data=tips_df,height=8,aspect=0.65)"
   ]
  },
  {
   "cell_type": "code",
   "execution_count": null,
   "id": "8d202ca9",
   "metadata": {},
   "outputs": [],
   "source": []
  }
 ],
 "metadata": {
  "kernelspec": {
   "display_name": "jskre",
   "language": "python",
   "name": "python3"
  },
  "language_info": {
   "codemirror_mode": {
    "name": "ipython",
    "version": 3
   },
   "file_extension": ".py",
   "mimetype": "text/x-python",
   "name": "python",
   "nbconvert_exporter": "python",
   "pygments_lexer": "ipython3",
   "version": "3.12.3"
  }
 },
 "nbformat": 4,
 "nbformat_minor": 5
}
